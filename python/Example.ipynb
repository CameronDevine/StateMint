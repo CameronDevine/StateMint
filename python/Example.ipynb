{
 "cells": [
  {
   "cell_type": "markdown",
   "metadata": {},
   "source": [
    "# StateModelRnD\n",
    "\n",
    "There are two methods for using StateModelRnD, one is to install the python package on your computer and to write python scripts solve and interact with the solution. The other is to use the web interface. This notebook will focus on how to interact with StateModelRnD in a python script.\n",
    "\n",
    "Before we begin we need to import a few libraries, including `StateModelRnD`."
   ]
  },
  {
   "cell_type": "code",
   "execution_count": 1,
   "metadata": {},
   "outputs": [],
   "source": [
    "import matplotlib.pyplot as plt\n",
    "import numpy as np\n",
    "import StateModelRnD\n",
    "from StateModelRnD import to_numpy\n",
    "import sympy\n",
    "sympy.init_printing()\n",
    "%matplotlib inline"
   ]
  },
  {
   "cell_type": "markdown",
   "metadata": {},
   "source": [
    "Now that the required libraries have been imported we can start working on a problem. In this case we will be working on the problem set forth in the [tutorial](https://github.com/CameronDevine/StateModelRnD/blob/tutorial/tutorial.md). This problem consists of a motor powering a pump through a flexible shaft. This pump pushes water through an enbow with a known resistance and out into the atmosphere. A diagram of the physical system can be seen below,"
   ]
  },
  {
   "cell_type": "markdown",
   "metadata": {},
   "source": [
    "![system](http://raw.githubusercontent.com/CameronDevine/StateModelRnD/master/web/HTML/tutorial/tutorial1.svg?sanitize=true)"
   ]
  },
  {
   "cell_type": "markdown",
   "metadata": {},
   "source": [
    "The following equations for this system were found in the tutorial:"
   ]
  },
  {
   "cell_type": "code",
   "execution_count": 2,
   "metadata": {},
   "outputs": [],
   "source": [
    "InVars = [\n",
    "    'Vs']\n",
    "StVarElEqns = [\n",
    "    \"tk' = kt * wk\"]\n",
    "OtherElEqns = [\n",
    "    'vR = R * iR',\n",
    "    \"vL = L * iL'\",\n",
    "    'i1 = -Kv * t2',\n",
    "    'w2 = Kv * v1',\n",
    "    'w3 = Q4 / -D',\n",
    "    'P4 = t3 / D',\n",
    "    'QR = PR / Rf']\n",
    "Constraints = [\n",
    "    'iL = i1',\n",
    "    'iR = i1',\n",
    "    't2 = -tk',\n",
    "    't3 = tk',\n",
    "    'Q4 = QR',\n",
    "    'v1 = Vs - vR - vL',\n",
    "    'wk = w2 - w3',\n",
    "    'PR = P4']\n",
    "OutputVars = [\n",
    "    'QR']"
   ]
  },
  {
   "cell_type": "markdown",
   "metadata": {},
   "source": [
    "Now using the `StateModelRnD.Solve` command the solution can be found."
   ]
  },
  {
   "cell_type": "code",
   "execution_count": 3,
   "metadata": {},
   "outputs": [],
   "source": [
    "sys = StateModelRnD.Solve(InVars, StVarElEqns, OtherElEqns, Constraints, OutputVars)"
   ]
  },
  {
   "cell_type": "markdown",
   "metadata": {},
   "source": [
    "Now that the solution has been found, different parts of the equation can be viewed including the $A$ matrix,"
   ]
  },
  {
   "cell_type": "code",
   "execution_count": 4,
   "metadata": {},
   "outputs": [
    {
     "data": {
      "image/png": "[encoded data removed]",
      "text/latex": [
       "$$\\left[\\begin{matrix}- \\frac{kt \\left(D^{2} Kv^{2} R Rf - 1\\right)}{D^{2} Rf \\left(Kv^{2} L kt + 1\\right)}\\end{matrix}\\right]$$"
      ],
      "text/plain": [
       "⎡    ⎛ 2   2         ⎞ ⎤\n",
       "⎢-kt⋅⎝D ⋅Kv ⋅R⋅Rf - 1⎠ ⎥\n",
       "⎢──────────────────────⎥\n",
       "⎢  2    ⎛  2         ⎞ ⎥\n",
       "⎣ D ⋅Rf⋅⎝Kv ⋅L⋅kt + 1⎠ ⎦"
      ]
     },
     "execution_count": 4,
     "metadata": {},
     "output_type": "execute_result"
    }
   ],
   "source": [
    "sys.A"
   ]
  },
  {
   "cell_type": "markdown",
   "metadata": {},
   "source": [
    "the state equation,"
   ]
  },
  {
   "cell_type": "code",
   "execution_count": 5,
   "metadata": {},
   "outputs": [
    {
     "data": {
      "image/png": "[encoded data removed]",
      "text/latex": [
       "$$\\left[\\begin{matrix}\\frac{kt}{D^{2} Rf \\left(Kv^{2} L kt + 1\\right)} \\left(- D^{2} Kv^{2} R Rf \\operatorname{tk}{\\left (t \\right )} + D^{2} Kv Rf \\operatorname{Vs}{\\left (t \\right )} + \\operatorname{tk}{\\left (t \\right )}\\right)\\end{matrix}\\right]$$"
      ],
      "text/plain": [
       "⎡   ⎛   2   2               2                    ⎞⎤\n",
       "⎢kt⋅⎝- D ⋅Kv ⋅R⋅Rf⋅tk(t) + D ⋅Kv⋅Rf⋅Vs(t) + tk(t)⎠⎥\n",
       "⎢─────────────────────────────────────────────────⎥\n",
       "⎢                2    ⎛  2         ⎞              ⎥\n",
       "⎣               D ⋅Rf⋅⎝Kv ⋅L⋅kt + 1⎠              ⎦"
      ]
     },
     "execution_count": 5,
     "metadata": {},
     "output_type": "execute_result"
    }
   ],
   "source": [
    "sys.StateEq"
   ]
  },
  {
   "cell_type": "markdown",
   "metadata": {},
   "source": [
    "or the transfer function,"
   ]
  },
  {
   "cell_type": "code",
   "execution_count": 6,
   "metadata": {},
   "outputs": [
    {
     "data": {
      "image/png": "[encoded data removed]",
      "text/latex": [
       "$$\\left[\\begin{matrix}\\frac{Kv kt}{D Rf \\left(s + \\frac{kt \\left(D^{2} Kv^{2} R Rf - 1\\right)}{D^{2} Rf \\left(Kv^{2} L kt + 1\\right)}\\right) \\left(Kv^{2} L kt + 1\\right)}\\end{matrix}\\right]$$"
      ],
      "text/plain": [
       "⎡                    Kv⋅kt                     ⎤\n",
       "⎢──────────────────────────────────────────────⎥\n",
       "⎢     ⎛       ⎛ 2   2         ⎞⎞               ⎥\n",
       "⎢     ⎜    kt⋅⎝D ⋅Kv ⋅R⋅Rf - 1⎠⎟ ⎛  2         ⎞⎥\n",
       "⎢D⋅Rf⋅⎜s + ────────────────────⎟⋅⎝Kv ⋅L⋅kt + 1⎠⎥\n",
       "⎢     ⎜     2    ⎛  2         ⎞⎟               ⎥\n",
       "⎣     ⎝    D ⋅Rf⋅⎝Kv ⋅L⋅kt + 1⎠⎠               ⎦"
      ]
     },
     "execution_count": 6,
     "metadata": {},
     "output_type": "execute_result"
    }
   ],
   "source": [
    "sys.TF"
   ]
  },
  {
   "cell_type": "markdown",
   "metadata": {},
   "source": [
    "The results can also be viewed in other languages such as LaTeX,"
   ]
  },
  {
   "cell_type": "code",
   "execution_count": 7,
   "metadata": {},
   "outputs": [
    {
     "name": "stdout",
     "output_type": "stream",
     "text": [
      "\\left[\\begin{matrix}- \\frac{kt \\left(D^{2} Kv^{2} R Rf - 1\\right)}{D^{2} Rf \\left(Kv^{2} L kt + 1\\right)}\\end{matrix}\\right]\n"
     ]
    }
   ],
   "source": [
    "print(sympy.latex(sys.A))"
   ]
  },
  {
   "cell_type": "markdown",
   "metadata": {},
   "source": [
    "or Matlab,"
   ]
  },
  {
   "cell_type": "code",
   "execution_count": 8,
   "metadata": {},
   "outputs": [
    {
     "name": "stdout",
     "output_type": "stream",
     "text": [
      "-kt.*(D.^2.*Kv.^2.*R.*Rf - 1)./(D.^2.*Rf.*(Kv.^2.*L.*kt + 1))\n"
     ]
    }
   ],
   "source": [
    "print(sympy.octave_code(sys.A))"
   ]
  },
  {
   "cell_type": "markdown",
   "metadata": {},
   "source": [
    "Other `sympy` functions can also be used to manipulate the equations if desired. However at this point we will substitute in values for the constants to allow us to simulate the system. This process starts by defining the values for each constant."
   ]
  },
  {
   "cell_type": "code",
   "execution_count": 9,
   "metadata": {},
   "outputs": [],
   "source": [
    "Values = {\n",
    "    'R': 5,\n",
    "    'L': 0.1,\n",
    "    'Kv': 1000,\n",
    "    'kt': 10,\n",
    "    'D': 0.0015,\n",
    "    'Rf': 4e6\n",
    "}"
   ]
  },
  {
   "cell_type": "markdown",
   "metadata": {},
   "source": [
    "Now the state equation matricies can be converted to `numpy` matricies."
   ]
  },
  {
   "cell_type": "code",
   "execution_count": 10,
   "metadata": {},
   "outputs": [],
   "source": [
    "A = to_numpy.matrix(sys.A, Values)\n",
    "B = to_numpy.matrix(sys.B, Values)\n",
    "C = to_numpy.matrix(sys.C, Values)\n",
    "D = to_numpy.matrix(sys.D, Values)"
   ]
  },
  {
   "cell_type": "markdown",
   "metadata": {},
   "source": [
    "A Forward Euler method can now be used to simulate the system given the initial condition `x0`."
   ]
  },
  {
   "cell_type": "code",
   "execution_count": 11,
   "metadata": {},
   "outputs": [],
   "source": [
    "dt = 0.0001\n",
    "x0 = np.matrix([[0]])\n",
    "tf = 0.15\n",
    "Vs = np.matrix([[12]])\n",
    "\n",
    "x = np.matrix(np.ndarray((A.shape[0], int(tf/dt) + 1)))\n",
    "y = np.matrix(np.ndarray((C.shape[0], int(tf/dt) + 1)))\n",
    "\n",
    "x[:,0] = x0\n",
    "y[:,0] = C * x0 + D * Vs\n",
    "for i in range(int(tf/dt)):\n",
    "    x[:,i+1] = x[:,i] + dt * (A * x[:,i] + B * Vs)\n",
    "    y[:,i+1] = C * x[:,i+1] + D * Vs"
   ]
  },
  {
   "cell_type": "markdown",
   "metadata": {},
   "source": [
    "This data can now be plotted to view the system's time response."
   ]
  },
  {
   "cell_type": "code",
   "execution_count": 12,
   "metadata": {},
   "outputs": [
    {
     "data": {
      "text/plain": [
       "<matplotlib.text.Text at 0x7f1835fc1d50>"
      ]
     },
     "execution_count": 12,
     "metadata": {},
     "output_type": "execute_result"
    },
    {
     "data": {
      "image/png": "[encoded data removed]",
      "text/plain": [
       "<matplotlib.figure.Figure at 0x7f1835fe7450>"
      ]
     },
     "metadata": {},
     "output_type": "display_data"
    }
   ],
   "source": [
    "plt.plot(np.arange(0, tf, dt), y.T.A[:,0])\n",
    "plt.ylabel('$Q_R(t)$ (L/s)')\n",
    "plt.xlabel('time (s)')"
   ]
  }
 ],
 "metadata": {
  "kernelspec": {
   "display_name": "Python 2",
   "language": "python",
   "name": "python2"
  },
  "language_info": {
   "codemirror_mode": {
    "name": "ipython",
    "version": 2
   },
   "file_extension": ".py",
   "mimetype": "text/x-python",
   "name": "python",
   "nbconvert_exporter": "python",
   "pygments_lexer": "ipython2",
   "version": "2.7.15rc1"
  }
 },
 "nbformat": 4,
 "nbformat_minor": 2
}
